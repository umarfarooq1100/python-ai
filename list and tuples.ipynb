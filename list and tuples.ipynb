{
 "cells": [
  {
   "cell_type": "code",
   "execution_count": null,
   "id": "7b9e82b0",
   "metadata": {},
   "outputs": [
    {
     "data": {
      "text/plain": [
       "str"
      ]
     },
     "execution_count": 1,
     "metadata": {},
     "output_type": "execute_result"
    }
   ],
   "source": [
    "list_1=[\"umar\",1,3,\"55\"]\n",
    "type(list_1[0])"
   ]
  },
  {
   "cell_type": "code",
   "execution_count": null,
   "id": "968c8c7a",
   "metadata": {},
   "outputs": [
    {
     "data": {
      "text/plain": [
       "1"
      ]
     },
     "execution_count": 3,
     "metadata": {},
     "output_type": "execute_result"
    }
   ],
   "source": [
    "list_1.index(1,1) #index of occurence of 1 after index 1"
   ]
  },
  {
   "cell_type": "code",
   "execution_count": null,
   "id": "6373bd0a",
   "metadata": {},
   "outputs": [],
   "source": [
    "m=list_1[:]"
   ]
  },
  {
   "cell_type": "code",
   "execution_count": null,
   "id": "e8ebcbc8",
   "metadata": {},
   "outputs": [
    {
     "data": {
      "text/plain": [
       "['umar', 1, 3, '55']"
      ]
     },
     "execution_count": 5,
     "metadata": {},
     "output_type": "execute_result"
    }
   ],
   "source": [
    "m"
   ]
  },
  {
   "cell_type": "code",
   "execution_count": null,
   "id": "a1bebc3f",
   "metadata": {},
   "outputs": [],
   "source": [
    "del(list_1[2])"
   ]
  },
  {
   "cell_type": "code",
   "execution_count": null,
   "id": "55d47190",
   "metadata": {},
   "outputs": [
    {
     "data": {
      "text/plain": [
       "['umar', 1, '55']"
      ]
     },
     "execution_count": 7,
     "metadata": {},
     "output_type": "execute_result"
    }
   ],
   "source": [
    "list_1"
   ]
  },
  {
   "cell_type": "code",
   "execution_count": null,
   "id": "9fd88292",
   "metadata": {},
   "outputs": [],
   "source": [
    "list_1.pop"
   ]
  },
  {
   "cell_type": "markdown",
   "id": "13707886",
   "metadata": {},
   "source": [
    "tuples don't support sort cz it bring permanant change and typles are immutable"
   ]
  },
  {
   "cell_type": "code",
   "execution_count": null,
   "id": "ff290f18",
   "metadata": {},
   "outputs": [],
   "source": [
    "name=\"umar farooq\"\n"
   ]
  },
  {
   "cell_type": "code",
   "execution_count": null,
   "id": "cb22394c",
   "metadata": {},
   "outputs": [
    {
     "data": {
      "text/plain": [
       "['umar', 'farooq']"
      ]
     },
     "execution_count": 9,
     "metadata": {},
     "output_type": "execute_result"
    }
   ],
   "source": [
    "name.split()"
   ]
  },
  {
   "cell_type": "code",
   "execution_count": null,
   "id": "da1cc12c",
   "metadata": {},
   "outputs": [],
   "source": [
    "import numpy as np"
   ]
  },
  {
   "cell_type": "code",
   "execution_count": null,
   "id": "0a1b7b45",
   "metadata": {},
   "outputs": [],
   "source": [
    "my_tuple=((1,3),(2,4),(3,3))"
   ]
  },
  {
   "cell_type": "code",
   "execution_count": null,
   "id": "94512079",
   "metadata": {},
   "outputs": [
    {
     "data": {
      "text/plain": [
       "0"
      ]
     },
     "execution_count": 12,
     "metadata": {},
     "output_type": "execute_result"
    }
   ],
   "source": [
    "my_tuple.count(2)"
   ]
  },
  {
   "cell_type": "code",
   "execution_count": null,
   "id": "cb8950b5",
   "metadata": {},
   "outputs": [
    {
     "data": {
      "text/plain": [
       "1"
      ]
     },
     "execution_count": 13,
     "metadata": {},
     "output_type": "execute_result"
    }
   ],
   "source": [
    "my_tuple.count((2,4))"
   ]
  },
  {
   "cell_type": "code",
   "execution_count": null,
   "id": "49ad0d0c",
   "metadata": {},
   "outputs": [
    {
     "data": {
      "text/plain": [
       "((1, 2), (2, 3))"
      ]
     },
     "execution_count": 19,
     "metadata": {},
     "output_type": "execute_result"
    }
   ],
   "source": [
    "a=eval(input(\"enter\"))\n",
    "a"
   ]
  },
  {
   "cell_type": "code",
   "execution_count": null,
   "id": "7cb68dcd",
   "metadata": {},
   "outputs": [
    {
     "data": {
      "text/plain": [
       "int"
      ]
     },
     "execution_count": 17,
     "metadata": {},
     "output_type": "execute_result"
    }
   ],
   "source": [
    "type(a[0])\n"
   ]
  },
  {
   "cell_type": "code",
   "execution_count": null,
   "id": "c769bdb5",
   "metadata": {},
   "outputs": [],
   "source": []
  }
 ],
 "metadata": {
  "language_info": {
   "name": "python"
  }
 },
 "nbformat": 4,
 "nbformat_minor": 5
}
