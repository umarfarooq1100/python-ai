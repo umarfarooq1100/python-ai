{
 "cells": [
  {
   "cell_type": "code",
   "execution_count": null,
   "id": "fe99a9ff",
   "metadata": {},
   "outputs": [],
   "source": [
    "my_dict={\n",
    "    \"name\" : \"umar\",\n",
    "    \"semester\": \"4th\",\n",
    "    \"age\" : 23\n",
    "}\n",
    "\n"
   ]
  },
  {
   "cell_type": "markdown",
   "id": "75cdf86a",
   "metadata": {},
   "source": [
    "pop function in dictionary "
   ]
  },
  {
   "cell_type": "code",
   "execution_count": null,
   "id": "08026208",
   "metadata": {},
   "outputs": [
    {
     "data": {
      "text/plain": [
       "23"
      ]
     },
     "execution_count": 3,
     "metadata": {},
     "output_type": "execute_result"
    }
   ],
   "source": [
    "my_dict.pop(\"age\")"
   ]
  },
  {
   "cell_type": "code",
   "execution_count": null,
   "id": "b19de187",
   "metadata": {},
   "outputs": [
    {
     "data": {
      "text/plain": [
       "{'name': 'umar', 'semester': '4th'}"
      ]
     },
     "execution_count": 4,
     "metadata": {},
     "output_type": "execute_result"
    }
   ],
   "source": [
    "my_dict"
   ]
  },
  {
   "cell_type": "code",
   "execution_count": null,
   "id": "3f5e2cee",
   "metadata": {},
   "outputs": [
    {
     "data": {
      "text/plain": [
       "('semester', '4th')"
      ]
     },
     "execution_count": 5,
     "metadata": {},
     "output_type": "execute_result"
    }
   ],
   "source": [
    "#popitem is used to remove last inserted item\n",
    "my_dict.popitem()"
   ]
  },
  {
   "cell_type": "code",
   "execution_count": null,
   "id": "656da1a0",
   "metadata": {},
   "outputs": [
    {
     "data": {
      "text/plain": [
       "{'name': 'umar'}"
      ]
     },
     "execution_count": 6,
     "metadata": {},
     "output_type": "execute_result"
    }
   ],
   "source": [
    "my_dict"
   ]
  },
  {
   "cell_type": "code",
   "execution_count": null,
   "id": "edeead4f",
   "metadata": {},
   "outputs": [
    {
     "data": {
      "text/plain": [
       "1"
      ]
     },
     "execution_count": 7,
     "metadata": {},
     "output_type": "execute_result"
    }
   ],
   "source": [
    "len(my_dict)\n",
    "#return no of  key value pairs in dict"
   ]
  },
  {
   "cell_type": "code",
   "execution_count": null,
   "id": "3fb375ba",
   "metadata": {},
   "outputs": [],
   "source": [
    "my_dict.update({\"name\":\"farooq\"})"
   ]
  },
  {
   "cell_type": "code",
   "execution_count": null,
   "id": "8cb8b06e",
   "metadata": {},
   "outputs": [
    {
     "data": {
      "text/plain": [
       "{'name': 'farooq'}"
      ]
     },
     "execution_count": 9,
     "metadata": {},
     "output_type": "execute_result"
    }
   ],
   "source": [
    "my_dict"
   ]
  },
  {
   "cell_type": "code",
   "execution_count": null,
   "id": "3bafc3d9",
   "metadata": {},
   "outputs": [
    {
     "data": {
      "text/plain": [
       "{1: ['a', 'b', 'c'],\n",
       " 2: ['a', 'b', 'c'],\n",
       " 3: ['a', 'b', 'c'],\n",
       " 4: ['a', 'b', 'c']}"
      ]
     },
     "execution_count": 10,
     "metadata": {},
     "output_type": "execute_result"
    }
   ],
   "source": [
    "keys=[1,2,3,4]\n",
    "value=[\"a\",\"b\",\"c\",]\n",
    "my_dict.fromkeys(keys,value)"
   ]
  },
  {
   "cell_type": "code",
   "execution_count": 2,
   "id": "d060cd68",
   "metadata": {},
   "outputs": [],
   "source": [
    "dicti={\n",
    "    \"name\": \"umar\",\n",
    "    \"semester\" : \"4th\",\n",
    "    \"age\" : \"23\",\n",
    " \"address\":\n",
    "    {\n",
    "        \"village\" : \"serai\",\n",
    "        \"district\": \"swabi\"\n",
    "    }\n",
    "}\n"
   ]
  },
  {
   "cell_type": "code",
   "execution_count": null,
   "id": "d21ede6b",
   "metadata": {},
   "outputs": [
    {
     "data": {
      "text/plain": [
       "'swabi'"
      ]
     },
     "execution_count": 15,
     "metadata": {},
     "output_type": "execute_result"
    }
   ],
   "source": [
    " #poping from sub dict\n",
    "dicti[\"address\"].pop(\"district\")"
   ]
  },
  {
   "cell_type": "code",
   "execution_count": null,
   "id": "1154cd87",
   "metadata": {},
   "outputs": [],
   "source": [
    "dicti[\"address\"][\"village\"]=\"gohati\""
   ]
  },
  {
   "cell_type": "code",
   "execution_count": null,
   "id": "da3bd6ee",
   "metadata": {},
   "outputs": [
    {
     "data": {
      "text/plain": [
       "{'name': 'umar',\n",
       " 'semester': '4th',\n",
       " 'age': '23',\n",
       " 'address': {'village': 'gohati'}}"
      ]
     },
     "execution_count": 17,
     "metadata": {},
     "output_type": "execute_result"
    }
   ],
   "source": [
    "dicti"
   ]
  },
  {
   "cell_type": "code",
   "execution_count": null,
   "id": "a1c1b3f4",
   "metadata": {},
   "outputs": [],
   "source": [
    "dicto={}"
   ]
  },
  {
   "cell_type": "code",
   "execution_count": null,
   "id": "51189be1",
   "metadata": {},
   "outputs": [
    {
     "data": {
      "text/plain": [
       "{1: None, 2: None, 3: None, 4: None}"
      ]
     },
     "execution_count": 19,
     "metadata": {},
     "output_type": "execute_result"
    }
   ],
   "source": [
    "key=[1,2,3,4]\n",
    "dicto.fromkeys(key)"
   ]
  },
  {
   "cell_type": "code",
   "execution_count": null,
   "id": "1989f6c9",
   "metadata": {},
   "outputs": [],
   "source": [
    "dicto.update({1:\"ali\"})"
   ]
  },
  {
   "cell_type": "code",
   "execution_count": null,
   "id": "8726eddf",
   "metadata": {},
   "outputs": [
    {
     "data": {
      "text/plain": [
       "{1: 'ali'}"
      ]
     },
     "execution_count": 21,
     "metadata": {},
     "output_type": "execute_result"
    }
   ],
   "source": [
    "dicto"
   ]
  },
  {
   "cell_type": "code",
   "execution_count": 3,
   "id": "f8bf4abf",
   "metadata": {},
   "outputs": [
    {
     "name": "stdout",
     "output_type": "stream",
     "text": [
      "name\n",
      "semester\n",
      "age\n",
      "address\n"
     ]
    }
   ],
   "source": [
    "for key in dicti:\n",
    "    print(key)"
   ]
  },
  {
   "cell_type": "code",
   "execution_count": 5,
   "id": "f953ea02",
   "metadata": {},
   "outputs": [
    {
     "name": "stdout",
     "output_type": "stream",
     "text": [
      "umar\n",
      "4th\n",
      "23\n",
      "{'village': 'serai', 'district': 'swabi'}\n"
     ]
    }
   ],
   "source": [
    "for values  in dicti:\n",
    "     print(dicti[values])"
   ]
  },
  {
   "cell_type": "code",
   "execution_count": 8,
   "id": "f14bd6fb",
   "metadata": {},
   "outputs": [
    {
     "name": "stdout",
     "output_type": "stream",
     "text": [
      "name : umar\n",
      "semester : 4th\n",
      "age : 23\n",
      "address : {'village': 'serai', 'district': 'swabi'}\n"
     ]
    }
   ],
   "source": [
    "for i in dicti:\n",
    "    print(f\"{i} : {dicti[i]}\")"
   ]
  },
  {
   "cell_type": "code",
   "execution_count": null,
   "id": "94feaabb",
   "metadata": {},
   "outputs": [],
   "source": []
  }
 ],
 "metadata": {
  "kernelspec": {
   "display_name": "Python 3",
   "language": "python",
   "name": "python3"
  },
  "language_info": {
   "codemirror_mode": {
    "name": "ipython",
    "version": 3
   },
   "file_extension": ".py",
   "mimetype": "text/x-python",
   "name": "python",
   "nbconvert_exporter": "python",
   "pygments_lexer": "ipython3",
   "version": "3.13.3"
  }
 },
 "nbformat": 4,
 "nbformat_minor": 5
}
