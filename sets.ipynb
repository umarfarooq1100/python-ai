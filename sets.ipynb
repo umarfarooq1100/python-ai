{
 "cells": [
  {
   "cell_type": "markdown",
   "id": "44ee2c10",
   "metadata": {},
   "source": [
    "sets"
   ]
  },
  {
   "cell_type": "code",
   "execution_count": 1,
   "id": "265fa3c1",
   "metadata": {},
   "outputs": [],
   "source": [
    "#decleration of empty set\n",
    "my_set=set()"
   ]
  },
  {
   "cell_type": "code",
   "execution_count": 2,
   "id": "9c7ba3b3",
   "metadata": {},
   "outputs": [],
   "source": [
    "my_set.add(1)"
   ]
  },
  {
   "cell_type": "code",
   "execution_count": null,
   "id": "bfd295dd",
   "metadata": {},
   "outputs": [],
   "source": [
    "#updated only take iteratable values eg list tuples set etc str\n",
    "my_set.update([1,2,3,4,5])"
   ]
  },
  {
   "cell_type": "code",
   "execution_count": 4,
   "id": "8fbd50e9",
   "metadata": {},
   "outputs": [],
   "source": [
    "#remove will give u error if the element is not present and discard wont\n",
    "my_set.remove(3)\n",
    "my_set.discard(6)"
   ]
  },
  {
   "cell_type": "code",
   "execution_count": 7,
   "id": "9ee261f8",
   "metadata": {},
   "outputs": [
    {
     "name": "stdout",
     "output_type": "stream",
     "text": [
      "{1, 2, 3, 4, 5, 6}\n"
     ]
    }
   ],
   "source": [
    "#union\n",
    "set1={1,2,3,4,5}\n",
    "set2={4,5,6}\n",
    "print(set1 | set2)"
   ]
  },
  {
   "cell_type": "code",
   "execution_count": 8,
   "id": "c670327b",
   "metadata": {},
   "outputs": [
    {
     "name": "stdout",
     "output_type": "stream",
     "text": [
      "{4, 5}\n"
     ]
    }
   ],
   "source": [
    "#intersection\n",
    "print(set1 & set2)"
   ]
  },
  {
   "cell_type": "code",
   "execution_count": null,
   "id": "e26897dc",
   "metadata": {},
   "outputs": [],
   "source": [
    "#use - for difference and ^  for symmetric difference\n"
   ]
  }
 ],
 "metadata": {
  "kernelspec": {
   "display_name": "Python 3",
   "language": "python",
   "name": "python3"
  },
  "language_info": {
   "codemirror_mode": {
    "name": "ipython",
    "version": 3
   },
   "file_extension": ".py",
   "mimetype": "text/x-python",
   "name": "python",
   "nbconvert_exporter": "python",
   "pygments_lexer": "ipython3",
   "version": "3.13.3"
  }
 },
 "nbformat": 4,
 "nbformat_minor": 5
}
